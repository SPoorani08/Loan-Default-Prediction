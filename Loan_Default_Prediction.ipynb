{
 "cells": [
  {
   "cell_type": "code",
   "execution_count": 1,
   "id": "5a7bcbdb-2adc-43d4-bd3e-5ee7ec8aeda5",
   "metadata": {},
   "outputs": [
    {
     "name": "stdout",
     "output_type": "stream",
     "text": [
      "<class 'pandas.core.frame.DataFrame'>\n",
      "RangeIndex: 1000 entries, 0 to 999\n",
      "Data columns (total 12 columns):\n",
      " #   Column                 Non-Null Count  Dtype  \n",
      "---  ------                 --------------  -----  \n",
      " 0   Age                    1000 non-null   int64  \n",
      " 1   Gender                 792 non-null    object \n",
      " 2   Income                 1000 non-null   float64\n",
      " 3   Employment_Status      906 non-null    object \n",
      " 4   Location               1000 non-null   object \n",
      " 5   Credit_Score           1000 non-null   int64  \n",
      " 6   Debt_to_Income_Ratio   1000 non-null   float64\n",
      " 7   Existing_Loan_Balance  1000 non-null   float64\n",
      " 8   Loan_Status            1000 non-null   object \n",
      " 9   Loan_Amount            1000 non-null   float64\n",
      " 10  Interest_Rate          1000 non-null   float64\n",
      " 11  Loan_Duration_Months   1000 non-null   int64  \n",
      "dtypes: float64(5), int64(3), object(4)\n",
      "memory usage: 93.9+ KB\n"
     ]
    }
   ],
   "source": [
    "import pandas as pd\n",
    "df = pd.read_csv('loan_default_prediction_project.csv') \n",
    "df.info()"
   ]
  },
  {
   "cell_type": "markdown",
   "id": "ed7782fe-315d-4db5-b2aa-183b9de3e38b",
   "metadata": {},
   "source": [
    "### 1) Data Preprocessing"
   ]
  },
  {
   "cell_type": "markdown",
   "id": "f1f7b7c5-7143-4467-ab11-57823e9572d4",
   "metadata": {},
   "source": [
    "##### Identified the missed values, Handle the missing values"
   ]
  },
  {
   "cell_type": "code",
   "execution_count": 8,
   "id": "4e666d5b-fb77-413b-b1c5-456b8422cf36",
   "metadata": {
    "scrolled": true
   },
   "outputs": [],
   "source": [
    "import pandas as pd\n",
    "\n",
    "# Load the dataset\n",
    "df = pd.read_csv('loan_default_prediction_project.csv')\n",
    "\n",
    "# Handling missing values in the 'Gender' column (fill with mode)\n",
    "df['Gender'] = df['Gender'].fillna(df['Gender'].mode()[0])\n",
    "\n",
    "# Handling missing values in the 'Employment_Status' column (fill with mode)\n",
    "df['Employment_Status'] = df['Employment_Status'].fillna(df['Employment_Status'].mode()[0])\n",
    "\n",
    "# Save the updated DataFrame to a new CSV file\n",
    "df.to_csv('loan_default_prediction_project_cleaned.csv', index=False)"
   ]
  },
  {
   "cell_type": "markdown",
   "id": "a9691059-fdf0-417d-a722-36b94b8c6ffe",
   "metadata": {},
   "source": [
    "##### Used One hot encoding for categorical variables"
   ]
  },
  {
   "cell_type": "code",
   "execution_count": 21,
   "id": "47d69d1c-2904-4a13-97d5-311c09bdd240",
   "metadata": {},
   "outputs": [
    {
     "name": "stdout",
     "output_type": "stream",
     "text": [
      "One-Hot Encoding applied and saved to 'loan_default_prediction_project_onehot_encoded.csv'.\n"
     ]
    }
   ],
   "source": [
    "import pandas as pd\n",
    "\n",
    "# Load your dataset\n",
    "df = pd.read_csv('loan_default_prediction_project_cleaned.csv')\n",
    "\n",
    "# List of categorical columns to encode\n",
    "categorical_columns = ['Gender', 'Employment_Status', 'Location', 'Loan_Status']\n",
    "\n",
    "# Apply One-Hot Encoding while keeping the original column names\n",
    "for col in categorical_columns:\n",
    "    # Perform One-Hot Encoding\n",
    "    encoded_cols = pd.get_dummies(df[col], prefix='', prefix_sep='')  # No prefix\n",
    "    # Keep only the relevant binary column\n",
    "    df[col] = encoded_cols.iloc[:, 1]  # Assuming `drop_first=True` behavior\n",
    "\n",
    "# Save the updated DataFrame to a new CSV file\n",
    "df.to_csv('loan_default_prediction_project_onehot_encoded.csv', index=False)\n",
    "\n",
    "print(\"One-Hot Encoding applied and saved to 'loan_default_prediction_project_onehot_encoded.csv'.\")"
   ]
  },
  {
   "cell_type": "markdown",
   "id": "8cc295a8-feae-4fbd-b2bb-00afb7f8a6a8",
   "metadata": {},
   "source": [
    "##### Used Min Max Scaling for numerical columns"
   ]
  },
  {
   "cell_type": "code",
   "execution_count": 22,
   "id": "99e35725-3294-43ce-9866-9d7f587f4ff1",
   "metadata": {},
   "outputs": [],
   "source": [
    "from sklearn.preprocessing import MinMaxScaler\n",
    "import pandas as pd\n",
    "\n",
    "# Load your cleaned dataset\n",
    "df = pd.read_csv('loan_default_prediction_project_onehot_encoded.csv')\n",
    "\n",
    "# Initialize the MinMaxScaler\n",
    "scaler = MinMaxScaler()\n",
    "\n",
    "# Numerical columns to scale\n",
    "numerical_cols = [\n",
    "    'Age',\n",
    "    'Income',\n",
    "    'Credit_Score',\n",
    "    'Debt_to_Income_Ratio',\n",
    "    'Existing_Loan_Balance',\n",
    "    'Loan_Amount',\n",
    "    'Interest_Rate',\n",
    "    'Loan_Duration_Months'\n",
    "]\n",
    "\n",
    "# Apply Min-Max Scaling\n",
    "df[numerical_cols] = scaler.fit_transform(df[numerical_cols])\n",
    "\n",
    "# Save the scaled DataFrame to a new CSV file\n",
    "df.to_csv('loan_price_prediction_scaled.csv', index=False)"
   ]
  },
  {
   "cell_type": "markdown",
   "id": "f442575b-456c-432f-8861-6540561f4014",
   "metadata": {},
   "source": [
    "### 2) Model Building"
   ]
  },
  {
   "cell_type": "code",
   "execution_count": 23,
   "id": "33b0ae26-680e-4028-8ea9-b7a0b15dd877",
   "metadata": {},
   "outputs": [
    {
     "name": "stdout",
     "output_type": "stream",
     "text": [
      "Classification Report:\n",
      "              precision    recall  f1-score   support\n",
      "\n",
      "       False       0.00      0.00      0.00        43\n",
      "        True       0.78      0.99      0.88       157\n",
      "\n",
      "    accuracy                           0.78       200\n",
      "   macro avg       0.39      0.50      0.44       200\n",
      "weighted avg       0.62      0.78      0.69       200\n",
      "\n",
      "ROC-AUC Score: 0.53\n"
     ]
    }
   ],
   "source": [
    "# Import libraries\n",
    "import pandas as pd\n",
    "from sklearn.model_selection import train_test_split\n",
    "from sklearn.ensemble import RandomForestClassifier\n",
    "from sklearn.metrics import classification_report, roc_auc_score\n",
    "\n",
    "# Load the cleaned and scaled dataset\n",
    "df = pd.read_csv('loan_price_prediction_scaled.csv')\n",
    "\n",
    "# Define features (X) and target (y)\n",
    "X = df.drop(columns=['Loan_Status'])  # Replace 'Loan_Status' with your target column\n",
    "y = df['Loan_Status']\n",
    "\n",
    "# Train-test split\n",
    "X_train, X_test, y_train, y_test = train_test_split(X, y, test_size=0.2, random_state=42)\n",
    "\n",
    "# Initialize a Random Forest Classifier (can replace with Logistic Regression, Gradient Boosting, etc.)\n",
    "model = RandomForestClassifier(random_state=42)\n",
    "\n",
    "# Train the model\n",
    "model.fit(X_train, y_train)\n",
    "\n",
    "# Predict on the test set\n",
    "y_pred = model.predict(X_test)\n",
    "\n",
    "# Evaluate the model\n",
    "print(\"Classification Report:\")\n",
    "print(classification_report(y_test, y_pred))\n",
    "\n",
    "# Calculate ROC-AUC Score\n",
    "y_pred_proba = model.predict_proba(X_test)[:, 1]  # Use probabilities for the positive class\n",
    "roc_auc = roc_auc_score(y_test, y_pred_proba)\n",
    "print(f\"ROC-AUC Score: {roc_auc:.2f}\")"
   ]
  },
  {
   "cell_type": "code",
   "execution_count": 37,
   "id": "79214d1b-f647-4285-91bf-610b8c3d8640",
   "metadata": {},
   "outputs": [
    {
     "name": "stdout",
     "output_type": "stream",
     "text": [
      "Model: Logistic Regression\n",
      "              precision    recall  f1-score   support\n",
      "\n",
      "       False       0.29      0.60      0.39        43\n",
      "        True       0.85      0.60      0.70       157\n",
      "\n",
      "    accuracy                           0.60       200\n",
      "   macro avg       0.57      0.60      0.55       200\n",
      "weighted avg       0.73      0.60      0.64       200\n",
      "\n",
      "ROC-AUC Score: 0.59\n",
      "\n",
      "Model: Decision Tree\n",
      "              precision    recall  f1-score   support\n",
      "\n",
      "       False       0.25      0.23      0.24        43\n",
      "        True       0.79      0.81      0.80       157\n",
      "\n",
      "    accuracy                           0.69       200\n",
      "   macro avg       0.52      0.52      0.52       200\n",
      "weighted avg       0.68      0.69      0.68       200\n",
      "\n",
      "ROC-AUC Score: 0.52\n",
      "\n",
      "Model: Random Forest\n",
      "              precision    recall  f1-score   support\n",
      "\n",
      "       False       0.00      0.00      0.00        43\n",
      "        True       0.79      1.00      0.88       157\n",
      "\n",
      "    accuracy                           0.79       200\n",
      "   macro avg       0.39      0.50      0.44       200\n",
      "weighted avg       0.62      0.79      0.69       200\n",
      "\n",
      "ROC-AUC Score: 0.55\n",
      "\n",
      "Model: Gradient Boosting\n",
      "              precision    recall  f1-score   support\n",
      "\n",
      "       False       0.33      0.02      0.04        43\n",
      "        True       0.79      0.99      0.88       157\n",
      "\n",
      "    accuracy                           0.78       200\n",
      "   macro avg       0.56      0.51      0.46       200\n",
      "weighted avg       0.69      0.78      0.70       200\n",
      "\n",
      "ROC-AUC Score: 0.64\n",
      "\n",
      "Model: Support Vector Machine\n",
      "              precision    recall  f1-score   support\n",
      "\n",
      "       False       0.19      0.35      0.24        43\n",
      "        True       0.77      0.59      0.66       157\n",
      "\n",
      "    accuracy                           0.54       200\n",
      "   macro avg       0.48      0.47      0.45       200\n",
      "weighted avg       0.64      0.54      0.57       200\n",
      "\n",
      "ROC-AUC Score: 0.57\n",
      "\n"
     ]
    }
   ],
   "source": [
    "import pandas as pd\n",
    "import numpy as np\n",
    "from sklearn.model_selection import train_test_split\n",
    "from sklearn.metrics import classification_report, roc_auc_score\n",
    "from sklearn.linear_model import LogisticRegression\n",
    "from sklearn.tree import DecisionTreeClassifier\n",
    "from sklearn.ensemble import RandomForestClassifier, GradientBoostingClassifier\n",
    "from sklearn.svm import SVC\n",
    "\n",
    "# Load the cleaned and preprocessed dataset\n",
    "data = pd.read_csv('loan_price_prediction_scaled.csv')\n",
    "\n",
    "# Split the dataset into features and target variable\n",
    "X = data.drop('Loan_Status', axis=1)  # Replace 'Loan_Status' with the actual target column name\n",
    "y = data['Loan_Status']\n",
    "\n",
    "# Split into training and testing sets\n",
    "X_train, X_test, y_train, y_test = train_test_split(X, y, test_size=0.2, random_state=42)\n",
    "\n",
    "# Dictionary to store model results\n",
    "results = {}\n",
    "\n",
    "# 1. Logistic Regression\n",
    "logreg = LogisticRegression(max_iter=1000, class_weight='balanced')\n",
    "logreg.fit(X_train, y_train)\n",
    "y_pred_logreg = logreg.predict(X_test)\n",
    "results['Logistic Regression'] = {\n",
    "    'classification_report': classification_report(y_test, y_pred_logreg, zero_division=0),\n",
    "    'roc_auc_score': roc_auc_score(y_test, logreg.predict_proba(X_test)[:, 1])\n",
    "}\n",
    "\n",
    "# 2. Decision Tree\n",
    "dt = DecisionTreeClassifier(random_state=42, class_weight='balanced')\n",
    "dt.fit(X_train, y_train)\n",
    "y_pred_dt = dt.predict(X_test)\n",
    "results['Decision Tree'] = {\n",
    "    'classification_report': classification_report(y_test, y_pred_dt, zero_division=0),\n",
    "    'roc_auc_score': roc_auc_score(y_test, dt.predict_proba(X_test)[:, 1])\n",
    "}\n",
    "\n",
    "# 3. Random Forest\n",
    "rf = RandomForestClassifier(random_state=42, n_estimators=100, class_weight='balanced')\n",
    "rf.fit(X_train, y_train)\n",
    "y_pred_rf = rf.predict(X_test)\n",
    "results['Random Forest'] = {\n",
    "    'classification_report': classification_report(y_test, y_pred_rf, zero_division=0),\n",
    "    'roc_auc_score': roc_auc_score(y_test, rf.predict_proba(X_test)[:, 1])\n",
    "}\n",
    "\n",
    "# 4. Gradient Boosting (XGBoost or GradientBoostingClassifier from sklearn)\n",
    "gb = GradientBoostingClassifier(random_state=42, n_estimators=80)\n",
    "gb.fit(X_train, y_train)\n",
    "y_pred_gb = gb.predict(X_test)\n",
    "results['Gradient Boosting'] = {\n",
    "    'classification_report': classification_report(y_test, y_pred_gb, zero_division=0),\n",
    "    'roc_auc_score': roc_auc_score(y_test, gb.predict_proba(X_test)[:, 1])\n",
    "}\n",
    "\n",
    "# 5. Support Vector Machine (SVM)\n",
    "svm = SVC(random_state=42, probability=True, class_weight='balanced')\n",
    "svm.fit(X_train, y_train)\n",
    "y_pred_svm = svm.predict(X_test)\n",
    "results['Support Vector Machine'] = {\n",
    "    'classification_report': classification_report(y_test, y_pred_svm, zero_division=0),\n",
    "    'roc_auc_score': roc_auc_score(y_test, svm.predict_proba(X_test)[:, 1])\n",
    "}\n",
    "\n",
    "# Print results\n",
    "for model, metrics in results.items():\n",
    "    print(f\"Model: {model}\")\n",
    "    print(metrics['classification_report'])\n",
    "    print(f\"ROC-AUC Score: {metrics['roc_auc_score']:.2f}\\n\")"
   ]
  },
  {
   "cell_type": "code",
   "execution_count": null,
   "id": "f342d69f-22e1-403b-a638-4902c8fcebea",
   "metadata": {},
   "outputs": [],
   "source": []
  }
 ],
 "metadata": {
  "kernelspec": {
   "display_name": "Python (myenv)",
   "language": "python",
   "name": "myenv"
  },
  "language_info": {
   "codemirror_mode": {
    "name": "ipython",
    "version": 3
   },
   "file_extension": ".py",
   "mimetype": "text/x-python",
   "name": "python",
   "nbconvert_exporter": "python",
   "pygments_lexer": "ipython3",
   "version": "3.12.6"
  }
 },
 "nbformat": 4,
 "nbformat_minor": 5
}
